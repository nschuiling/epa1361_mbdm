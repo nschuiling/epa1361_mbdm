{
 "cells": [
  {
   "cell_type": "markdown",
   "id": "5a7005e2-77a8-445a-84aa-7c14408baf47",
   "metadata": {},
   "source": [
    "# Group 11 - Sensitivity Analysis"
   ]
  },
  {
   "cell_type": "markdown",
   "id": "46c3de72-3b45-411b-afe3-6eaefe773ce5",
   "metadata": {},
   "source": [
    "## Prepare environment"
   ]
  },
  {
   "cell_type": "code",
   "execution_count": 1,
   "id": "73d758d5-ce7c-4e6f-96e1-e89875cdf9a5",
   "metadata": {
    "ExecuteTime": {
     "end_time": "2023-04-20T10:27:38.507784Z",
     "start_time": "2023-04-20T10:27:38.465406Z"
    },
    "collapsed": false,
    "jupyter": {
     "outputs_hidden": false
    }
   },
   "outputs": [],
   "source": [
    "from lakemodel_function import lake_problem\n",
    "\n",
    "import numpy as np\n",
    "import matplotlib.pyplot as plt\n",
    "import seaborn as sns\n",
    "import pandas as pd"
   ]
  },
  {
   "cell_type": "markdown",
   "id": "971a0289-1aff-4ad9-9655-58f07ae28e0a",
   "metadata": {},
   "source": [
    "## Load and prepare data"
   ]
  },
  {
   "cell_type": "code",
   "execution_count": null,
   "id": "564d0bbc-054b-4941-b739-64ca1a94b63f",
   "metadata": {},
   "outputs": [],
   "source": [
    "# Load and show the data and its shape\n",
    "data = = pd.read_csv('../Output/xxxxxxxx.csv')  #index_col=None)  # CHANGE: data file\n",
    "print(f\"Shape of data: {data.shape[0]} rows, {data.shape[1]} columns.\")\n",
    "data.head()"
   ]
  },
  {
   "cell_type": "code",
   "execution_count": 3,
   "id": "9d8e3c9f-bcd2-401b-b4e2-52f434c49ce8",
   "metadata": {
    "ExecuteTime": {
     "end_time": "2023-04-24T09:56:55.184520Z",
     "start_time": "2023-04-24T09:56:55.118886Z"
    },
    "collapsed": false,
    "jupyter": {
     "outputs_hidden": false
    },
    "tags": []
   },
   "outputs": [
    {
     "name": "stdout",
     "output_type": "stream",
     "text": [
      "Columns in x: ['Cellulosic cost' 'Total biomass' 'Feedstock distribution'\n",
      " 'Cellulosic yield' 'Oil elasticity' 'Demand elasticity'\n",
      " 'Electricity coproduction' 'oil supply shift' 'Biomass backstop price']\n"
     ]
    }
   ],
   "source": [
    "# Select and show the experiments\n",
    "x = data.iloc[:, 2:11]                       # CHANGE: experiment condition columns\n",
    "print(f\"Columns in x: {x.columns.values}\")"
   ]
  },
  {
   "cell_type": "code",
   "execution_count": 4,
   "id": "ecdd6a08-3e87-4b5d-ab11-c6ebe2c290f8",
   "metadata": {
    "ExecuteTime": {
     "end_time": "2023-04-24T09:56:55.184520Z",
     "start_time": "2023-04-24T09:56:55.122955Z"
    },
    "collapsed": false,
    "jupyter": {
     "outputs_hidden": false
    },
    "tags": []
   },
   "outputs": [],
   "source": [
    "# Select the outcome\n",
    "y = data.iloc[:, 15].values               # CHANGE: outcome column(s)"
   ]
  },
  {
   "cell_type": "markdown",
   "id": "c2d73a72-d8fb-47cb-bc3c-935733c9fdc8",
   "metadata": {},
   "source": [
    "## Start analysis?"
   ]
  },
  {
   "cell_type": "code",
   "execution_count": null,
   "id": "00faf8ed-0186-4174-8368-ac04d89712c1",
   "metadata": {},
   "outputs": [],
   "source": []
  }
 ],
 "metadata": {
  "kernelspec": {
   "display_name": "Python 3 (ipykernel)",
   "language": "python",
   "name": "python3"
  },
  "language_info": {
   "codemirror_mode": {
    "name": "ipython",
    "version": 3
   },
   "file_extension": ".py",
   "mimetype": "text/x-python",
   "name": "python",
   "nbconvert_exporter": "python",
   "pygments_lexer": "ipython3",
   "version": "3.11.3"
  }
 },
 "nbformat": 4,
 "nbformat_minor": 5
}
