{
 "cells": [
  {
   "cell_type": "code",
   "execution_count": 72,
   "metadata": {
    "tags": []
   },
   "outputs": [],
   "source": [
    "import numpy as np\n",
    "import scipy as sp\n",
    "import pandas as pd\n",
    "import matplotlib.pyplot as plt\n",
    "import seaborn as sns\n",
    "import networkx as nx"
   ]
  },
  {
   "cell_type": "code",
   "execution_count": 87,
   "metadata": {},
   "outputs": [],
   "source": [
    "from ema_workbench import (Model, MultiprocessingEvaluator, \n",
    "                           Policy, Scenario, ema_logging,\n",
    "                           save_results, load_results, \n",
    "                           SequentialEvaluator)\n",
    "\n",
    "from ema_workbench.em_framework.evaluators import perform_experiments\n",
    "from ema_workbench.em_framework.samplers import sample_uncertainties\n",
    "\n",
    "import time\n",
    "from problem_formulation import get_model_for_problem_formulation\n",
    "\n",
    "# sns pair_plots create a lot of warnings\n",
    "import warnings\n",
    "warnings.filterwarnings('ignore')\n",
    "\n",
    "\n",
    "ema_logging.log_to_stderr(ema_logging.INFO)\n",
    "\n",
    "# for Open exploration we choose problem formulation\n",
    "dike_model, planning_steps = get_model_for_problem_formulation(5)"
   ]
  },
  {
   "cell_type": "code",
   "execution_count": 88,
   "metadata": {
    "tags": []
   },
   "outputs": [
    {
     "name": "stdout",
     "output_type": "stream",
     "text": [
      "CategoricalParameter('discount rate 0', [0, 1, 2, 3])\n",
      "CategoricalParameter('discount rate 1', [0, 1, 2, 3])\n",
      "CategoricalParameter('discount rate 2', [0, 1, 2, 3])\n"
     ]
    },
    {
     "ename": "AttributeError",
     "evalue": "module 'scipy.stats._distn_infrastructure' has no attribute 'rv_discrete_frozen'",
     "output_type": "error",
     "traceback": [
      "\u001B[1;31m---------------------------------------------------------------------------\u001B[0m",
      "\u001B[1;31mAttributeError\u001B[0m                            Traceback (most recent call last)",
      "Input \u001B[1;32mIn [88]\u001B[0m, in \u001B[0;36m<cell line: 3>\u001B[1;34m()\u001B[0m\n\u001B[0;32m      1\u001B[0m \u001B[38;5;66;03m# enlisting uncertainties, their types (RealParameter/IntegerParameter/CategoricalParameter), \u001B[39;00m\n\u001B[0;32m      2\u001B[0m \u001B[38;5;66;03m# lower boundary, and upper boundary\u001B[39;00m\n\u001B[0;32m      3\u001B[0m \u001B[38;5;28;01mfor\u001B[39;00m unc \u001B[38;5;129;01min\u001B[39;00m dike_model\u001B[38;5;241m.\u001B[39muncertainties:\n\u001B[1;32m----> 4\u001B[0m     \u001B[38;5;28mprint\u001B[39m(\u001B[38;5;28;43mrepr\u001B[39;49m\u001B[43m(\u001B[49m\u001B[43munc\u001B[49m\u001B[43m)\u001B[49m)\n\u001B[0;32m      6\u001B[0m uncertainties \u001B[38;5;241m=\u001B[39m dike_model\u001B[38;5;241m.\u001B[39muncertainties\n\u001B[0;32m      8\u001B[0m \u001B[38;5;28;01mimport\u001B[39;00m \u001B[38;5;21;01mcopy\u001B[39;00m\n",
      "File \u001B[1;32m~\\anaconda3\\lib\\site-packages\\ema_workbench\\em_framework\\parameters.py:341\u001B[0m, in \u001B[0;36mIntegerParameter.__repr__\u001B[1;34m(self)\u001B[0m\n\u001B[0;32m    340\u001B[0m \u001B[38;5;28;01mdef\u001B[39;00m \u001B[38;5;21m__repr__\u001B[39m(\u001B[38;5;28mself\u001B[39m):\n\u001B[1;32m--> 341\u001B[0m     \u001B[38;5;28;01mif\u001B[39;00m \u001B[38;5;28misinstance\u001B[39m(\u001B[38;5;28mself\u001B[39m\u001B[38;5;241m.\u001B[39mdist, \u001B[43msp\u001B[49m\u001B[38;5;241;43m.\u001B[39;49m\u001B[43mstats\u001B[49m\u001B[38;5;241;43m.\u001B[39;49m\u001B[43m_distn_infrastructure\u001B[49m\u001B[38;5;241;43m.\u001B[39;49m\u001B[43mrv_discrete_frozen\u001B[49m):\n\u001B[0;32m    342\u001B[0m         \u001B[38;5;28;01mreturn\u001B[39;00m (\n\u001B[0;32m    343\u001B[0m             \u001B[38;5;124mf\u001B[39m\u001B[38;5;124m\"\u001B[39m\u001B[38;5;124mIntegerParameter(\u001B[39m\u001B[38;5;124m'\u001B[39m\u001B[38;5;132;01m{\u001B[39;00m\u001B[38;5;28mself\u001B[39m\u001B[38;5;241m.\u001B[39mname\u001B[38;5;132;01m}\u001B[39;00m\u001B[38;5;124m'\u001B[39m\u001B[38;5;124m, \u001B[39m\u001B[38;5;132;01m{\u001B[39;00m\u001B[38;5;28mself\u001B[39m\u001B[38;5;241m.\u001B[39mlower_bound\u001B[38;5;132;01m}\u001B[39;00m\u001B[38;5;124m, \u001B[39m\u001B[38;5;132;01m{\u001B[39;00m\u001B[38;5;28mself\u001B[39m\u001B[38;5;241m.\u001B[39mupper_bound\u001B[38;5;132;01m}\u001B[39;00m\u001B[38;5;124m, \u001B[39m\u001B[38;5;124m\"\u001B[39m\n\u001B[0;32m    344\u001B[0m             \u001B[38;5;124mf\u001B[39m\u001B[38;5;124m\"\u001B[39m\u001B[38;5;124mresolution=\u001B[39m\u001B[38;5;132;01m{\u001B[39;00m\u001B[38;5;28mself\u001B[39m\u001B[38;5;241m.\u001B[39mresolution\u001B[38;5;132;01m}\u001B[39;00m\u001B[38;5;124m, default=\u001B[39m\u001B[38;5;132;01m{\u001B[39;00m\u001B[38;5;28mself\u001B[39m\u001B[38;5;241m.\u001B[39mdefault\u001B[38;5;132;01m}\u001B[39;00m\u001B[38;5;124m, variable_name=\u001B[39m\u001B[38;5;132;01m{\u001B[39;00m\u001B[38;5;28mself\u001B[39m\u001B[38;5;241m.\u001B[39mvariable_name\u001B[38;5;132;01m}\u001B[39;00m\u001B[38;5;124m, \u001B[39m\u001B[38;5;124m\"\u001B[39m\n\u001B[0;32m    345\u001B[0m             \u001B[38;5;124mf\u001B[39m\u001B[38;5;124m\"\u001B[39m\u001B[38;5;124mpff=\u001B[39m\u001B[38;5;132;01m{\u001B[39;00m\u001B[38;5;28mself\u001B[39m\u001B[38;5;241m.\u001B[39mpff\u001B[38;5;132;01m}\u001B[39;00m\u001B[38;5;124m)\u001B[39m\u001B[38;5;124m\"\u001B[39m\n\u001B[0;32m    346\u001B[0m         )\n\u001B[0;32m    347\u001B[0m     \u001B[38;5;28;01melse\u001B[39;00m:\n",
      "\u001B[1;31mAttributeError\u001B[0m: module 'scipy.stats._distn_infrastructure' has no attribute 'rv_discrete_frozen'"
     ]
    }
   ],
   "source": [
    "# enlisting uncertainties, their types (RealParameter/IntegerParameter/CategoricalParameter), \n",
    "# lower boundary, and upper boundary\n",
    "for unc in dike_model.uncertainties:\n",
    "    print(repr(unc))\n",
    "    \n",
    "uncertainties = dike_model.uncertainties\n",
    "\n",
    "import copy\n",
    "uncertainties = copy.deepcopy(dike_model.uncertainties)"
   ]
  },
  {
   "cell_type": "code",
   "execution_count": 89,
   "metadata": {
    "scrolled": true,
    "tags": []
   },
   "outputs": [
    {
     "ename": "AttributeError",
     "evalue": "module 'scipy.stats._distn_infrastructure' has no attribute 'rv_discrete_frozen'",
     "output_type": "error",
     "traceback": [
      "\u001B[1;31m---------------------------------------------------------------------------\u001B[0m",
      "\u001B[1;31mAttributeError\u001B[0m                            Traceback (most recent call last)",
      "Input \u001B[1;32mIn [89]\u001B[0m, in \u001B[0;36m<cell line: 2>\u001B[1;34m()\u001B[0m\n\u001B[0;32m      1\u001B[0m \u001B[38;5;66;03m# enlisting policy levers, their types (RealParameter/IntegerParameter), lower boundary, and upper boundary\u001B[39;00m\n\u001B[0;32m      2\u001B[0m \u001B[38;5;28;01mfor\u001B[39;00m policy \u001B[38;5;129;01min\u001B[39;00m dike_model\u001B[38;5;241m.\u001B[39mlevers:\n\u001B[1;32m----> 3\u001B[0m     \u001B[38;5;28mprint\u001B[39m(\u001B[38;5;28;43mrepr\u001B[39;49m\u001B[43m(\u001B[49m\u001B[43mpolicy\u001B[49m\u001B[43m)\u001B[49m)\n\u001B[0;32m      5\u001B[0m levers \u001B[38;5;241m=\u001B[39m dike_model\u001B[38;5;241m.\u001B[39mlevers \n\u001B[0;32m      7\u001B[0m \u001B[38;5;28;01mimport\u001B[39;00m \u001B[38;5;21;01mcopy\u001B[39;00m\n",
      "File \u001B[1;32m~\\anaconda3\\lib\\site-packages\\ema_workbench\\em_framework\\parameters.py:341\u001B[0m, in \u001B[0;36mIntegerParameter.__repr__\u001B[1;34m(self)\u001B[0m\n\u001B[0;32m    340\u001B[0m \u001B[38;5;28;01mdef\u001B[39;00m \u001B[38;5;21m__repr__\u001B[39m(\u001B[38;5;28mself\u001B[39m):\n\u001B[1;32m--> 341\u001B[0m     \u001B[38;5;28;01mif\u001B[39;00m \u001B[38;5;28misinstance\u001B[39m(\u001B[38;5;28mself\u001B[39m\u001B[38;5;241m.\u001B[39mdist, \u001B[43msp\u001B[49m\u001B[38;5;241;43m.\u001B[39;49m\u001B[43mstats\u001B[49m\u001B[38;5;241;43m.\u001B[39;49m\u001B[43m_distn_infrastructure\u001B[49m\u001B[38;5;241;43m.\u001B[39;49m\u001B[43mrv_discrete_frozen\u001B[49m):\n\u001B[0;32m    342\u001B[0m         \u001B[38;5;28;01mreturn\u001B[39;00m (\n\u001B[0;32m    343\u001B[0m             \u001B[38;5;124mf\u001B[39m\u001B[38;5;124m\"\u001B[39m\u001B[38;5;124mIntegerParameter(\u001B[39m\u001B[38;5;124m'\u001B[39m\u001B[38;5;132;01m{\u001B[39;00m\u001B[38;5;28mself\u001B[39m\u001B[38;5;241m.\u001B[39mname\u001B[38;5;132;01m}\u001B[39;00m\u001B[38;5;124m'\u001B[39m\u001B[38;5;124m, \u001B[39m\u001B[38;5;132;01m{\u001B[39;00m\u001B[38;5;28mself\u001B[39m\u001B[38;5;241m.\u001B[39mlower_bound\u001B[38;5;132;01m}\u001B[39;00m\u001B[38;5;124m, \u001B[39m\u001B[38;5;132;01m{\u001B[39;00m\u001B[38;5;28mself\u001B[39m\u001B[38;5;241m.\u001B[39mupper_bound\u001B[38;5;132;01m}\u001B[39;00m\u001B[38;5;124m, \u001B[39m\u001B[38;5;124m\"\u001B[39m\n\u001B[0;32m    344\u001B[0m             \u001B[38;5;124mf\u001B[39m\u001B[38;5;124m\"\u001B[39m\u001B[38;5;124mresolution=\u001B[39m\u001B[38;5;132;01m{\u001B[39;00m\u001B[38;5;28mself\u001B[39m\u001B[38;5;241m.\u001B[39mresolution\u001B[38;5;132;01m}\u001B[39;00m\u001B[38;5;124m, default=\u001B[39m\u001B[38;5;132;01m{\u001B[39;00m\u001B[38;5;28mself\u001B[39m\u001B[38;5;241m.\u001B[39mdefault\u001B[38;5;132;01m}\u001B[39;00m\u001B[38;5;124m, variable_name=\u001B[39m\u001B[38;5;132;01m{\u001B[39;00m\u001B[38;5;28mself\u001B[39m\u001B[38;5;241m.\u001B[39mvariable_name\u001B[38;5;132;01m}\u001B[39;00m\u001B[38;5;124m, \u001B[39m\u001B[38;5;124m\"\u001B[39m\n\u001B[0;32m    345\u001B[0m             \u001B[38;5;124mf\u001B[39m\u001B[38;5;124m\"\u001B[39m\u001B[38;5;124mpff=\u001B[39m\u001B[38;5;132;01m{\u001B[39;00m\u001B[38;5;28mself\u001B[39m\u001B[38;5;241m.\u001B[39mpff\u001B[38;5;132;01m}\u001B[39;00m\u001B[38;5;124m)\u001B[39m\u001B[38;5;124m\"\u001B[39m\n\u001B[0;32m    346\u001B[0m         )\n\u001B[0;32m    347\u001B[0m     \u001B[38;5;28;01melse\u001B[39;00m:\n",
      "\u001B[1;31mAttributeError\u001B[0m: module 'scipy.stats._distn_infrastructure' has no attribute 'rv_discrete_frozen'"
     ]
    }
   ],
   "source": [
    "# enlisting policy levers, their types (RealParameter/IntegerParameter), lower boundary, and upper boundary\n",
    "for policy in dike_model.levers:\n",
    "    print(repr(policy))\n",
    "    \n",
    "levers = dike_model.levers \n",
    "\n",
    "import copy\n",
    "levers = copy.deepcopy(dike_model.levers)"
   ]
  },
  {
   "cell_type": "code",
   "execution_count": 90,
   "metadata": {
    "tags": []
   },
   "outputs": [
    {
     "name": "stderr",
     "output_type": "stream",
     "text": [
      "[MainProcess/INFO] pool started with 4 workers\n",
      "[MainProcess/INFO] performing 50 scenarios * 10 policies * 1 model(s) = 500 experiments\n",
      "100%|████████████████████████████████████████| 500/500 [04:24<00:00,  1.89it/s]\n",
      "[MainProcess/INFO] experiments finished\n",
      "[MainProcess/INFO] terminating pool\n"
     ]
    }
   ],
   "source": [
    "# running the model through EMA workbench\n",
    "\n",
    "with MultiprocessingEvaluator(dike_model) as evaluator:\n",
    "    results = evaluator.perform_experiments(scenarios=50, policies=10)\n",
    "# observing the simulation runs\n",
    "experiments, outcomes = results"
   ]
  },
  {
   "cell_type": "code",
   "execution_count": 91,
   "metadata": {
    "tags": []
   },
   "outputs": [
    {
     "data": {
      "text/plain": "     A.0_ID flood wave shape    A.1_Bmax A.1_Brate  A.1_pfail    A.2_Bmax  \\\n0                        125  240.949798       1.0   0.165633  203.887693   \n1                          5  223.905159       1.5   0.611351  187.375637   \n2                         26  194.491894      10.0   0.448343  113.528352   \n3                         72   55.501266       1.5   0.897271   33.606217   \n4                         57  186.885447      10.0   0.719669  154.337415   \n..                       ...         ...       ...        ...         ...   \n495                      122  308.414076       1.0   0.623966  121.724186   \n496                       14  133.352669       1.5   0.593235   45.989846   \n497                       35   60.981148      10.0   0.077292  277.958945   \n498                       39   40.060961       1.0   0.751369  254.377182   \n499                       91  228.763673       1.5   0.943901   79.906980   \n\n    A.2_Brate  A.2_pfail    A.3_Bmax A.3_Brate  A.3_pfail  ...  \\\n0         1.5   0.044911  262.326544       1.0   0.647140  ...   \n1         1.5   0.910732  347.708454      10.0   0.481594  ...   \n2        10.0   0.861216  306.974396       1.0   0.212041  ...   \n3        10.0   0.951798  255.653448      10.0   0.555667  ...   \n4         1.5   0.409253   89.821962       1.0   0.779213  ...   \n..        ...        ...         ...       ...        ...  ...   \n495       1.5   0.437650  190.172756       1.0   0.174735  ...   \n496       1.5   0.777843  160.854100       1.0   0.359514  ...   \n497       1.0   0.390136  164.827720       1.0   0.114615  ...   \n498       1.5   0.723691  183.859977      10.0   0.668826  ...   \n499      10.0   0.370396  277.888766      10.0   0.612638  ...   \n\n     A.4_DikeIncrease 0 A.4_DikeIncrease 1  A.4_DikeIncrease 2  \\\n0                    10                 10                   5   \n1                    10                 10                   5   \n2                    10                 10                   5   \n3                    10                 10                   5   \n4                    10                 10                   5   \n..                  ...                ...                 ...   \n495                   6                  1                   1   \n496                   6                  1                   1   \n497                   6                  1                   1   \n498                   6                  1                   1   \n499                   6                  1                   1   \n\n     A.5_DikeIncrease 0 A.5_DikeIncrease 1  A.5_DikeIncrease 2  \\\n0                     1                 10                   7   \n1                     1                 10                   7   \n2                     1                 10                   7   \n3                     1                 10                   7   \n4                     1                 10                   7   \n..                  ...                ...                 ...   \n495                   5                  6                   1   \n496                   5                  6                   1   \n497                   5                  6                   1   \n498                   5                  6                   1   \n499                   5                  6                   1   \n\n    EWS_DaysToThreat scenario policy     model  \n0                  1      370    360  dikesnet  \n1                  1      371    360  dikesnet  \n2                  1      372    360  dikesnet  \n3                  1      373    360  dikesnet  \n4                  1      374    360  dikesnet  \n..               ...      ...    ...       ...  \n495                4      415    369  dikesnet  \n496                4      416    369  dikesnet  \n497                4      417    369  dikesnet  \n498                4      418    369  dikesnet  \n499                4      419    369  dikesnet  \n\n[500 rows x 53 columns]",
      "text/html": "<div>\n<style scoped>\n    .dataframe tbody tr th:only-of-type {\n        vertical-align: middle;\n    }\n\n    .dataframe tbody tr th {\n        vertical-align: top;\n    }\n\n    .dataframe thead th {\n        text-align: right;\n    }\n</style>\n<table border=\"1\" class=\"dataframe\">\n  <thead>\n    <tr style=\"text-align: right;\">\n      <th></th>\n      <th>A.0_ID flood wave shape</th>\n      <th>A.1_Bmax</th>\n      <th>A.1_Brate</th>\n      <th>A.1_pfail</th>\n      <th>A.2_Bmax</th>\n      <th>A.2_Brate</th>\n      <th>A.2_pfail</th>\n      <th>A.3_Bmax</th>\n      <th>A.3_Brate</th>\n      <th>A.3_pfail</th>\n      <th>...</th>\n      <th>A.4_DikeIncrease 0</th>\n      <th>A.4_DikeIncrease 1</th>\n      <th>A.4_DikeIncrease 2</th>\n      <th>A.5_DikeIncrease 0</th>\n      <th>A.5_DikeIncrease 1</th>\n      <th>A.5_DikeIncrease 2</th>\n      <th>EWS_DaysToThreat</th>\n      <th>scenario</th>\n      <th>policy</th>\n      <th>model</th>\n    </tr>\n  </thead>\n  <tbody>\n    <tr>\n      <th>0</th>\n      <td>125</td>\n      <td>240.949798</td>\n      <td>1.0</td>\n      <td>0.165633</td>\n      <td>203.887693</td>\n      <td>1.5</td>\n      <td>0.044911</td>\n      <td>262.326544</td>\n      <td>1.0</td>\n      <td>0.647140</td>\n      <td>...</td>\n      <td>10</td>\n      <td>10</td>\n      <td>5</td>\n      <td>1</td>\n      <td>10</td>\n      <td>7</td>\n      <td>1</td>\n      <td>370</td>\n      <td>360</td>\n      <td>dikesnet</td>\n    </tr>\n    <tr>\n      <th>1</th>\n      <td>5</td>\n      <td>223.905159</td>\n      <td>1.5</td>\n      <td>0.611351</td>\n      <td>187.375637</td>\n      <td>1.5</td>\n      <td>0.910732</td>\n      <td>347.708454</td>\n      <td>10.0</td>\n      <td>0.481594</td>\n      <td>...</td>\n      <td>10</td>\n      <td>10</td>\n      <td>5</td>\n      <td>1</td>\n      <td>10</td>\n      <td>7</td>\n      <td>1</td>\n      <td>371</td>\n      <td>360</td>\n      <td>dikesnet</td>\n    </tr>\n    <tr>\n      <th>2</th>\n      <td>26</td>\n      <td>194.491894</td>\n      <td>10.0</td>\n      <td>0.448343</td>\n      <td>113.528352</td>\n      <td>10.0</td>\n      <td>0.861216</td>\n      <td>306.974396</td>\n      <td>1.0</td>\n      <td>0.212041</td>\n      <td>...</td>\n      <td>10</td>\n      <td>10</td>\n      <td>5</td>\n      <td>1</td>\n      <td>10</td>\n      <td>7</td>\n      <td>1</td>\n      <td>372</td>\n      <td>360</td>\n      <td>dikesnet</td>\n    </tr>\n    <tr>\n      <th>3</th>\n      <td>72</td>\n      <td>55.501266</td>\n      <td>1.5</td>\n      <td>0.897271</td>\n      <td>33.606217</td>\n      <td>10.0</td>\n      <td>0.951798</td>\n      <td>255.653448</td>\n      <td>10.0</td>\n      <td>0.555667</td>\n      <td>...</td>\n      <td>10</td>\n      <td>10</td>\n      <td>5</td>\n      <td>1</td>\n      <td>10</td>\n      <td>7</td>\n      <td>1</td>\n      <td>373</td>\n      <td>360</td>\n      <td>dikesnet</td>\n    </tr>\n    <tr>\n      <th>4</th>\n      <td>57</td>\n      <td>186.885447</td>\n      <td>10.0</td>\n      <td>0.719669</td>\n      <td>154.337415</td>\n      <td>1.5</td>\n      <td>0.409253</td>\n      <td>89.821962</td>\n      <td>1.0</td>\n      <td>0.779213</td>\n      <td>...</td>\n      <td>10</td>\n      <td>10</td>\n      <td>5</td>\n      <td>1</td>\n      <td>10</td>\n      <td>7</td>\n      <td>1</td>\n      <td>374</td>\n      <td>360</td>\n      <td>dikesnet</td>\n    </tr>\n    <tr>\n      <th>...</th>\n      <td>...</td>\n      <td>...</td>\n      <td>...</td>\n      <td>...</td>\n      <td>...</td>\n      <td>...</td>\n      <td>...</td>\n      <td>...</td>\n      <td>...</td>\n      <td>...</td>\n      <td>...</td>\n      <td>...</td>\n      <td>...</td>\n      <td>...</td>\n      <td>...</td>\n      <td>...</td>\n      <td>...</td>\n      <td>...</td>\n      <td>...</td>\n      <td>...</td>\n      <td>...</td>\n    </tr>\n    <tr>\n      <th>495</th>\n      <td>122</td>\n      <td>308.414076</td>\n      <td>1.0</td>\n      <td>0.623966</td>\n      <td>121.724186</td>\n      <td>1.5</td>\n      <td>0.437650</td>\n      <td>190.172756</td>\n      <td>1.0</td>\n      <td>0.174735</td>\n      <td>...</td>\n      <td>6</td>\n      <td>1</td>\n      <td>1</td>\n      <td>5</td>\n      <td>6</td>\n      <td>1</td>\n      <td>4</td>\n      <td>415</td>\n      <td>369</td>\n      <td>dikesnet</td>\n    </tr>\n    <tr>\n      <th>496</th>\n      <td>14</td>\n      <td>133.352669</td>\n      <td>1.5</td>\n      <td>0.593235</td>\n      <td>45.989846</td>\n      <td>1.5</td>\n      <td>0.777843</td>\n      <td>160.854100</td>\n      <td>1.0</td>\n      <td>0.359514</td>\n      <td>...</td>\n      <td>6</td>\n      <td>1</td>\n      <td>1</td>\n      <td>5</td>\n      <td>6</td>\n      <td>1</td>\n      <td>4</td>\n      <td>416</td>\n      <td>369</td>\n      <td>dikesnet</td>\n    </tr>\n    <tr>\n      <th>497</th>\n      <td>35</td>\n      <td>60.981148</td>\n      <td>10.0</td>\n      <td>0.077292</td>\n      <td>277.958945</td>\n      <td>1.0</td>\n      <td>0.390136</td>\n      <td>164.827720</td>\n      <td>1.0</td>\n      <td>0.114615</td>\n      <td>...</td>\n      <td>6</td>\n      <td>1</td>\n      <td>1</td>\n      <td>5</td>\n      <td>6</td>\n      <td>1</td>\n      <td>4</td>\n      <td>417</td>\n      <td>369</td>\n      <td>dikesnet</td>\n    </tr>\n    <tr>\n      <th>498</th>\n      <td>39</td>\n      <td>40.060961</td>\n      <td>1.0</td>\n      <td>0.751369</td>\n      <td>254.377182</td>\n      <td>1.5</td>\n      <td>0.723691</td>\n      <td>183.859977</td>\n      <td>10.0</td>\n      <td>0.668826</td>\n      <td>...</td>\n      <td>6</td>\n      <td>1</td>\n      <td>1</td>\n      <td>5</td>\n      <td>6</td>\n      <td>1</td>\n      <td>4</td>\n      <td>418</td>\n      <td>369</td>\n      <td>dikesnet</td>\n    </tr>\n    <tr>\n      <th>499</th>\n      <td>91</td>\n      <td>228.763673</td>\n      <td>1.5</td>\n      <td>0.943901</td>\n      <td>79.906980</td>\n      <td>10.0</td>\n      <td>0.370396</td>\n      <td>277.888766</td>\n      <td>10.0</td>\n      <td>0.612638</td>\n      <td>...</td>\n      <td>6</td>\n      <td>1</td>\n      <td>1</td>\n      <td>5</td>\n      <td>6</td>\n      <td>1</td>\n      <td>4</td>\n      <td>419</td>\n      <td>369</td>\n      <td>dikesnet</td>\n    </tr>\n  </tbody>\n</table>\n<p>500 rows × 53 columns</p>\n</div>"
     },
     "execution_count": 91,
     "metadata": {},
     "output_type": "execute_result"
    }
   ],
   "source": [
    "experiments"
   ]
  },
  {
   "cell_type": "code",
   "execution_count": 92,
   "metadata": {
    "tags": []
   },
   "outputs": [
    {
     "data": {
      "text/plain": "{'A.1_Expected Annual Damage': array([[0., 0., 0.],\n        [0., 0., 0.],\n        [0., 0., 0.],\n        ...,\n        [0., 0., 0.],\n        [0., 0., 0.],\n        [0., 0., 0.]]),\n 'A.1_Dike Investment Costs': array([[95107331.23784721, 52132659.76693945, 80775586.4697899 ],\n        [95107331.23784721, 52132659.76693945, 80775586.4697899 ],\n        [95107331.23784721, 52132659.76693945, 80775586.4697899 ],\n        ...,\n        [47847947.96145424, 42614374.21669578, 83358432.99969438],\n        [47847947.96145424, 42614374.21669578, 83358432.99969438],\n        [47847947.96145424, 42614374.21669578, 83358432.99969438]]),\n 'A.1_Expected Number of Deaths': array([[0., 0., 0.],\n        [0., 0., 0.],\n        [0., 0., 0.],\n        ...,\n        [0., 0., 0.],\n        [0., 0., 0.],\n        [0., 0., 0.]]),\n 'A.2_Expected Annual Damage': array([[15372726.00368594,        0.        ,        0.        ],\n        [       0.        ,        0.        ,        0.        ],\n        [       0.        ,        0.        ,        0.        ],\n        ...,\n        [       0.        ,        0.        ,        0.        ],\n        [       0.        ,        0.        ,        0.        ],\n        [       0.        ,        0.        ,        0.        ]]),\n 'A.2_Dike Investment Costs': array([[6.60451034e+07, 8.96910842e+07, 5.91937535e+07],\n        [6.60451034e+07, 8.96910842e+07, 5.91937535e+07],\n        [6.60451034e+07, 8.96910842e+07, 5.91937535e+07],\n        ...,\n        [9.95253972e+07, 1.39269772e+08, 0.00000000e+00],\n        [9.95253972e+07, 1.39269772e+08, 0.00000000e+00],\n        [9.95253972e+07, 1.39269772e+08, 0.00000000e+00]]),\n 'A.2_Expected Number of Deaths': array([[0.00402386, 0.        , 0.        ],\n        [0.        , 0.        , 0.        ],\n        [0.        , 0.        , 0.        ],\n        ...,\n        [0.        , 0.        , 0.        ],\n        [0.        , 0.        , 0.        ],\n        [0.        , 0.        , 0.        ]]),\n 'A.3_Expected Annual Damage': array([[      0.        ,       0.        ,       0.        ],\n        [      0.        ,       0.        ,       0.        ],\n        [      0.        ,       0.        ,       0.        ],\n        ...,\n        [8547388.55142814, 2672539.55001659,       0.        ],\n        [      0.        ,       0.        ,       0.        ],\n        [      0.        ,       0.        ,       0.        ]]),\n 'A.3_Dike Investment Costs': array([[44215020.36958183, 33861251.13283128, 68433642.88296033],\n        [44215020.36958183, 33861251.13283128, 68433642.88296033],\n        [44215020.36958183, 33861251.13283128, 68433642.88296033],\n        ...,\n        [26403379.54230644, 23219345.59791906, 48037933.58993338],\n        [26403379.54230644, 23219345.59791906, 48037933.58993338],\n        [26403379.54230644, 23219345.59791906, 48037933.58993338]]),\n 'A.3_Expected Number of Deaths': array([[0.        , 0.        , 0.        ],\n        [0.        , 0.        , 0.        ],\n        [0.        , 0.        , 0.        ],\n        ...,\n        [0.00225604, 0.00086691, 0.        ],\n        [0.        , 0.        , 0.        ],\n        [0.        , 0.        , 0.        ]]),\n 'A.4_Expected Annual Damage': array([[0., 0., 0.],\n        [0., 0., 0.],\n        [0., 0., 0.],\n        ...,\n        [0., 0., 0.],\n        [0., 0., 0.],\n        [0., 0., 0.]]),\n 'A.4_Dike Investment Costs': array([[20384338.44319517, 28524600.27851669, 21674312.02719184],\n        [20384338.44319517, 28524600.27851669, 21674312.02719184],\n        [20384338.44319517, 28524600.27851669, 21674312.02719184],\n        ...,\n        [12586457.99877811,  7732605.20788063,  7996834.9441692 ],\n        [12586457.99877811,  7732605.20788063,  7996834.9441692 ],\n        [12586457.99877811,  7732605.20788063,  7996834.9441692 ]]),\n 'A.4_Expected Number of Deaths': array([[0., 0., 0.],\n        [0., 0., 0.],\n        [0., 0., 0.],\n        ...,\n        [0., 0., 0.],\n        [0., 0., 0.],\n        [0., 0., 0.]]),\n 'A.5_Expected Annual Damage': array([[8.94851892e+06, 0.00000000e+00, 0.00000000e+00],\n        [1.30698120e+08, 0.00000000e+00, 0.00000000e+00],\n        [1.51745395e+06, 0.00000000e+00, 0.00000000e+00],\n        ...,\n        [0.00000000e+00, 0.00000000e+00, 0.00000000e+00],\n        [0.00000000e+00, 0.00000000e+00, 0.00000000e+00],\n        [1.96827653e+06, 0.00000000e+00, 0.00000000e+00]]),\n 'A.5_Dike Investment Costs': array([[25037214.08617373, 60164572.92534063, 63954892.22892595],\n        [25037214.08617373, 60164572.92534063, 63954892.22892595],\n        [25037214.08617373, 60164572.92534063, 63954892.22892595],\n        ...,\n        [36676675.8402945 , 47641201.50794283, 36232745.49008768],\n        [36676675.8402945 , 47641201.50794283, 36232745.49008768],\n        [36676675.8402945 , 47641201.50794283, 36232745.49008768]]),\n 'A.5_Expected Number of Deaths': array([[0.00219945, 0.        , 0.        ],\n        [0.04032602, 0.        , 0.        ],\n        [0.0004948 , 0.        , 0.        ],\n        ...,\n        [0.        , 0.        , 0.        ],\n        [0.        , 0.        , 0.        ],\n        [0.00016495, 0.        , 0.        ]]),\n 'RfR Total Costs': array([[2.058e+08, 0.000e+00, 4.739e+08],\n        [2.058e+08, 0.000e+00, 4.739e+08],\n        [2.058e+08, 0.000e+00, 4.739e+08],\n        ...,\n        [2.178e+08, 4.926e+08, 6.797e+08],\n        [2.178e+08, 4.926e+08, 6.797e+08],\n        [2.178e+08, 4.926e+08, 6.797e+08]]),\n 'Expected Evacuation Costs': array([[ 507.65917301,    0.        ,    0.        ],\n        [4061.93734165,    0.        ,    0.        ],\n        [  44.44912667,    0.        ,    0.        ],\n        ...,\n        [ 538.71360044,  203.83022932,    0.        ],\n        [   0.        ,    0.        ,    0.        ],\n        [ 106.96324027,    0.        ,    0.        ]])}"
     },
     "execution_count": 92,
     "metadata": {},
     "output_type": "execute_result"
    }
   ],
   "source": [
    "outcomes"
   ]
  },
  {
   "cell_type": "code",
   "execution_count": 93,
   "metadata": {},
   "outputs": [
    {
     "name": "stdout",
     "output_type": "stream",
     "text": [
      "dict_keys(['A.1_Expected Annual Damage', 'A.1_Dike Investment Costs', 'A.1_Expected Number of Deaths', 'A.2_Expected Annual Damage', 'A.2_Dike Investment Costs', 'A.2_Expected Number of Deaths', 'A.3_Expected Annual Damage', 'A.3_Dike Investment Costs', 'A.3_Expected Number of Deaths', 'A.4_Expected Annual Damage', 'A.4_Dike Investment Costs', 'A.4_Expected Number of Deaths', 'A.5_Expected Annual Damage', 'A.5_Dike Investment Costs', 'A.5_Expected Number of Deaths', 'RfR Total Costs', 'Expected Evacuation Costs'])\n"
     ]
    }
   ],
   "source": [
    "outcomes2 = outcomes\n",
    "print(outcomes.keys())"
   ]
  },
  {
   "cell_type": "code",
   "execution_count": 94,
   "outputs": [],
   "source": [
    "import pandas as pd\n",
    "import numpy as np\n",
    "\n",
    "# Assuming outcomes is a dictionary with three-dimensional arrays\n",
    "outcomes2 = {\n",
    "    'array1': np.random.random((2, 3, 4)),\n",
    "    'array2': np.random.random((2, 3, 4)),\n",
    "    'array3': np.random.random((2, 3, 4))\n",
    "}\n",
    "\n",
    "# Reshape and flatten the arrays into one-dimensional arrays\n",
    "reshaped_outcomes = {}\n",
    "for key, array in outcomes.items():\n",
    "    reshaped_outcomes[key] = array.reshape(-1)\n",
    "\n",
    "# Convert the reshaped dictionary into a DataFrame\n",
    "outcomes_df = pd.DataFrame(reshaped_outcomes)"
   ],
   "metadata": {
    "collapsed": false
   }
  },
  {
   "cell_type": "code",
   "execution_count": 95,
   "outputs": [
    {
     "data": {
      "text/plain": "      A.1_Expected Annual Damage  A.1_Dike Investment Costs  \\\n0                            0.0               9.510733e+07   \n1                            0.0               5.213266e+07   \n2                            0.0               8.077559e+07   \n3                            0.0               9.510733e+07   \n4                            0.0               5.213266e+07   \n...                          ...                        ...   \n1495                         0.0               4.261437e+07   \n1496                         0.0               8.335843e+07   \n1497                         0.0               4.784795e+07   \n1498                         0.0               4.261437e+07   \n1499                         0.0               8.335843e+07   \n\n      A.1_Expected Number of Deaths  A.2_Expected Annual Damage  \\\n0                               0.0                1.537273e+07   \n1                               0.0                0.000000e+00   \n2                               0.0                0.000000e+00   \n3                               0.0                0.000000e+00   \n4                               0.0                0.000000e+00   \n...                             ...                         ...   \n1495                            0.0                0.000000e+00   \n1496                            0.0                0.000000e+00   \n1497                            0.0                0.000000e+00   \n1498                            0.0                0.000000e+00   \n1499                            0.0                0.000000e+00   \n\n      A.2_Dike Investment Costs  A.2_Expected Number of Deaths  \\\n0                  6.604510e+07                       0.004024   \n1                  8.969108e+07                       0.000000   \n2                  5.919375e+07                       0.000000   \n3                  6.604510e+07                       0.000000   \n4                  8.969108e+07                       0.000000   \n...                         ...                            ...   \n1495               1.392698e+08                       0.000000   \n1496               0.000000e+00                       0.000000   \n1497               9.952540e+07                       0.000000   \n1498               1.392698e+08                       0.000000   \n1499               0.000000e+00                       0.000000   \n\n      A.3_Expected Annual Damage  A.3_Dike Investment Costs  \\\n0                            0.0               4.421502e+07   \n1                            0.0               3.386125e+07   \n2                            0.0               6.843364e+07   \n3                            0.0               4.421502e+07   \n4                            0.0               3.386125e+07   \n...                          ...                        ...   \n1495                         0.0               2.321935e+07   \n1496                         0.0               4.803793e+07   \n1497                         0.0               2.640338e+07   \n1498                         0.0               2.321935e+07   \n1499                         0.0               4.803793e+07   \n\n      A.3_Expected Number of Deaths  A.4_Expected Annual Damage  \\\n0                               0.0                         0.0   \n1                               0.0                         0.0   \n2                               0.0                         0.0   \n3                               0.0                         0.0   \n4                               0.0                         0.0   \n...                             ...                         ...   \n1495                            0.0                         0.0   \n1496                            0.0                         0.0   \n1497                            0.0                         0.0   \n1498                            0.0                         0.0   \n1499                            0.0                         0.0   \n\n      A.4_Dike Investment Costs  A.4_Expected Number of Deaths  \\\n0                  2.038434e+07                            0.0   \n1                  2.852460e+07                            0.0   \n2                  2.167431e+07                            0.0   \n3                  2.038434e+07                            0.0   \n4                  2.852460e+07                            0.0   \n...                         ...                            ...   \n1495               7.732605e+06                            0.0   \n1496               7.996835e+06                            0.0   \n1497               1.258646e+07                            0.0   \n1498               7.732605e+06                            0.0   \n1499               7.996835e+06                            0.0   \n\n      A.5_Expected Annual Damage  A.5_Dike Investment Costs  \\\n0                   8.948519e+06               2.503721e+07   \n1                   0.000000e+00               6.016457e+07   \n2                   0.000000e+00               6.395489e+07   \n3                   1.306981e+08               2.503721e+07   \n4                   0.000000e+00               6.016457e+07   \n...                          ...                        ...   \n1495                0.000000e+00               4.764120e+07   \n1496                0.000000e+00               3.623275e+07   \n1497                1.968277e+06               3.667668e+07   \n1498                0.000000e+00               4.764120e+07   \n1499                0.000000e+00               3.623275e+07   \n\n      A.5_Expected Number of Deaths  RfR Total Costs  \\\n0                          0.002199      205800000.0   \n1                          0.000000              0.0   \n2                          0.000000      473900000.0   \n3                          0.040326      205800000.0   \n4                          0.000000              0.0   \n...                             ...              ...   \n1495                       0.000000      492600000.0   \n1496                       0.000000      679700000.0   \n1497                       0.000165      217800000.0   \n1498                       0.000000      492600000.0   \n1499                       0.000000      679700000.0   \n\n      Expected Evacuation Costs  \n0                    507.659173  \n1                      0.000000  \n2                      0.000000  \n3                   4061.937342  \n4                      0.000000  \n...                         ...  \n1495                   0.000000  \n1496                   0.000000  \n1497                 106.963240  \n1498                   0.000000  \n1499                   0.000000  \n\n[1500 rows x 17 columns]",
      "text/html": "<div>\n<style scoped>\n    .dataframe tbody tr th:only-of-type {\n        vertical-align: middle;\n    }\n\n    .dataframe tbody tr th {\n        vertical-align: top;\n    }\n\n    .dataframe thead th {\n        text-align: right;\n    }\n</style>\n<table border=\"1\" class=\"dataframe\">\n  <thead>\n    <tr style=\"text-align: right;\">\n      <th></th>\n      <th>A.1_Expected Annual Damage</th>\n      <th>A.1_Dike Investment Costs</th>\n      <th>A.1_Expected Number of Deaths</th>\n      <th>A.2_Expected Annual Damage</th>\n      <th>A.2_Dike Investment Costs</th>\n      <th>A.2_Expected Number of Deaths</th>\n      <th>A.3_Expected Annual Damage</th>\n      <th>A.3_Dike Investment Costs</th>\n      <th>A.3_Expected Number of Deaths</th>\n      <th>A.4_Expected Annual Damage</th>\n      <th>A.4_Dike Investment Costs</th>\n      <th>A.4_Expected Number of Deaths</th>\n      <th>A.5_Expected Annual Damage</th>\n      <th>A.5_Dike Investment Costs</th>\n      <th>A.5_Expected Number of Deaths</th>\n      <th>RfR Total Costs</th>\n      <th>Expected Evacuation Costs</th>\n    </tr>\n  </thead>\n  <tbody>\n    <tr>\n      <th>0</th>\n      <td>0.0</td>\n      <td>9.510733e+07</td>\n      <td>0.0</td>\n      <td>1.537273e+07</td>\n      <td>6.604510e+07</td>\n      <td>0.004024</td>\n      <td>0.0</td>\n      <td>4.421502e+07</td>\n      <td>0.0</td>\n      <td>0.0</td>\n      <td>2.038434e+07</td>\n      <td>0.0</td>\n      <td>8.948519e+06</td>\n      <td>2.503721e+07</td>\n      <td>0.002199</td>\n      <td>205800000.0</td>\n      <td>507.659173</td>\n    </tr>\n    <tr>\n      <th>1</th>\n      <td>0.0</td>\n      <td>5.213266e+07</td>\n      <td>0.0</td>\n      <td>0.000000e+00</td>\n      <td>8.969108e+07</td>\n      <td>0.000000</td>\n      <td>0.0</td>\n      <td>3.386125e+07</td>\n      <td>0.0</td>\n      <td>0.0</td>\n      <td>2.852460e+07</td>\n      <td>0.0</td>\n      <td>0.000000e+00</td>\n      <td>6.016457e+07</td>\n      <td>0.000000</td>\n      <td>0.0</td>\n      <td>0.000000</td>\n    </tr>\n    <tr>\n      <th>2</th>\n      <td>0.0</td>\n      <td>8.077559e+07</td>\n      <td>0.0</td>\n      <td>0.000000e+00</td>\n      <td>5.919375e+07</td>\n      <td>0.000000</td>\n      <td>0.0</td>\n      <td>6.843364e+07</td>\n      <td>0.0</td>\n      <td>0.0</td>\n      <td>2.167431e+07</td>\n      <td>0.0</td>\n      <td>0.000000e+00</td>\n      <td>6.395489e+07</td>\n      <td>0.000000</td>\n      <td>473900000.0</td>\n      <td>0.000000</td>\n    </tr>\n    <tr>\n      <th>3</th>\n      <td>0.0</td>\n      <td>9.510733e+07</td>\n      <td>0.0</td>\n      <td>0.000000e+00</td>\n      <td>6.604510e+07</td>\n      <td>0.000000</td>\n      <td>0.0</td>\n      <td>4.421502e+07</td>\n      <td>0.0</td>\n      <td>0.0</td>\n      <td>2.038434e+07</td>\n      <td>0.0</td>\n      <td>1.306981e+08</td>\n      <td>2.503721e+07</td>\n      <td>0.040326</td>\n      <td>205800000.0</td>\n      <td>4061.937342</td>\n    </tr>\n    <tr>\n      <th>4</th>\n      <td>0.0</td>\n      <td>5.213266e+07</td>\n      <td>0.0</td>\n      <td>0.000000e+00</td>\n      <td>8.969108e+07</td>\n      <td>0.000000</td>\n      <td>0.0</td>\n      <td>3.386125e+07</td>\n      <td>0.0</td>\n      <td>0.0</td>\n      <td>2.852460e+07</td>\n      <td>0.0</td>\n      <td>0.000000e+00</td>\n      <td>6.016457e+07</td>\n      <td>0.000000</td>\n      <td>0.0</td>\n      <td>0.000000</td>\n    </tr>\n    <tr>\n      <th>...</th>\n      <td>...</td>\n      <td>...</td>\n      <td>...</td>\n      <td>...</td>\n      <td>...</td>\n      <td>...</td>\n      <td>...</td>\n      <td>...</td>\n      <td>...</td>\n      <td>...</td>\n      <td>...</td>\n      <td>...</td>\n      <td>...</td>\n      <td>...</td>\n      <td>...</td>\n      <td>...</td>\n      <td>...</td>\n    </tr>\n    <tr>\n      <th>1495</th>\n      <td>0.0</td>\n      <td>4.261437e+07</td>\n      <td>0.0</td>\n      <td>0.000000e+00</td>\n      <td>1.392698e+08</td>\n      <td>0.000000</td>\n      <td>0.0</td>\n      <td>2.321935e+07</td>\n      <td>0.0</td>\n      <td>0.0</td>\n      <td>7.732605e+06</td>\n      <td>0.0</td>\n      <td>0.000000e+00</td>\n      <td>4.764120e+07</td>\n      <td>0.000000</td>\n      <td>492600000.0</td>\n      <td>0.000000</td>\n    </tr>\n    <tr>\n      <th>1496</th>\n      <td>0.0</td>\n      <td>8.335843e+07</td>\n      <td>0.0</td>\n      <td>0.000000e+00</td>\n      <td>0.000000e+00</td>\n      <td>0.000000</td>\n      <td>0.0</td>\n      <td>4.803793e+07</td>\n      <td>0.0</td>\n      <td>0.0</td>\n      <td>7.996835e+06</td>\n      <td>0.0</td>\n      <td>0.000000e+00</td>\n      <td>3.623275e+07</td>\n      <td>0.000000</td>\n      <td>679700000.0</td>\n      <td>0.000000</td>\n    </tr>\n    <tr>\n      <th>1497</th>\n      <td>0.0</td>\n      <td>4.784795e+07</td>\n      <td>0.0</td>\n      <td>0.000000e+00</td>\n      <td>9.952540e+07</td>\n      <td>0.000000</td>\n      <td>0.0</td>\n      <td>2.640338e+07</td>\n      <td>0.0</td>\n      <td>0.0</td>\n      <td>1.258646e+07</td>\n      <td>0.0</td>\n      <td>1.968277e+06</td>\n      <td>3.667668e+07</td>\n      <td>0.000165</td>\n      <td>217800000.0</td>\n      <td>106.963240</td>\n    </tr>\n    <tr>\n      <th>1498</th>\n      <td>0.0</td>\n      <td>4.261437e+07</td>\n      <td>0.0</td>\n      <td>0.000000e+00</td>\n      <td>1.392698e+08</td>\n      <td>0.000000</td>\n      <td>0.0</td>\n      <td>2.321935e+07</td>\n      <td>0.0</td>\n      <td>0.0</td>\n      <td>7.732605e+06</td>\n      <td>0.0</td>\n      <td>0.000000e+00</td>\n      <td>4.764120e+07</td>\n      <td>0.000000</td>\n      <td>492600000.0</td>\n      <td>0.000000</td>\n    </tr>\n    <tr>\n      <th>1499</th>\n      <td>0.0</td>\n      <td>8.335843e+07</td>\n      <td>0.0</td>\n      <td>0.000000e+00</td>\n      <td>0.000000e+00</td>\n      <td>0.000000</td>\n      <td>0.0</td>\n      <td>4.803793e+07</td>\n      <td>0.0</td>\n      <td>0.0</td>\n      <td>7.996835e+06</td>\n      <td>0.0</td>\n      <td>0.000000e+00</td>\n      <td>3.623275e+07</td>\n      <td>0.000000</td>\n      <td>679700000.0</td>\n      <td>0.000000</td>\n    </tr>\n  </tbody>\n</table>\n<p>1500 rows × 17 columns</p>\n</div>"
     },
     "execution_count": 95,
     "metadata": {},
     "output_type": "execute_result"
    }
   ],
   "source": [
    "outcomes_df"
   ],
   "metadata": {
    "collapsed": false
   }
  },
  {
   "cell_type": "code",
   "execution_count": 96,
   "metadata": {},
   "outputs": [],
   "source": [
    "# create a dataframe from the outcomes with an extra column with policy names\n",
    "policies = experiments['policy']\n",
    "data = pd.DataFrame(outcomes_df)\n",
    "data['policy'] = policies"
   ]
  },
  {
   "cell_type": "code",
   "execution_count": 97,
   "outputs": [
    {
     "data": {
      "text/plain": "      A.1_Expected Annual Damage  A.1_Dike Investment Costs  \\\n0                            0.0               9.510733e+07   \n1                            0.0               5.213266e+07   \n2                            0.0               8.077559e+07   \n3                            0.0               9.510733e+07   \n4                            0.0               5.213266e+07   \n...                          ...                        ...   \n1495                         0.0               4.261437e+07   \n1496                         0.0               8.335843e+07   \n1497                         0.0               4.784795e+07   \n1498                         0.0               4.261437e+07   \n1499                         0.0               8.335843e+07   \n\n      A.1_Expected Number of Deaths  A.2_Expected Annual Damage  \\\n0                               0.0                1.537273e+07   \n1                               0.0                0.000000e+00   \n2                               0.0                0.000000e+00   \n3                               0.0                0.000000e+00   \n4                               0.0                0.000000e+00   \n...                             ...                         ...   \n1495                            0.0                0.000000e+00   \n1496                            0.0                0.000000e+00   \n1497                            0.0                0.000000e+00   \n1498                            0.0                0.000000e+00   \n1499                            0.0                0.000000e+00   \n\n      A.2_Dike Investment Costs  A.2_Expected Number of Deaths  \\\n0                  6.604510e+07                       0.004024   \n1                  8.969108e+07                       0.000000   \n2                  5.919375e+07                       0.000000   \n3                  6.604510e+07                       0.000000   \n4                  8.969108e+07                       0.000000   \n...                         ...                            ...   \n1495               1.392698e+08                       0.000000   \n1496               0.000000e+00                       0.000000   \n1497               9.952540e+07                       0.000000   \n1498               1.392698e+08                       0.000000   \n1499               0.000000e+00                       0.000000   \n\n      A.3_Expected Annual Damage  A.3_Dike Investment Costs  \\\n0                            0.0               4.421502e+07   \n1                            0.0               3.386125e+07   \n2                            0.0               6.843364e+07   \n3                            0.0               4.421502e+07   \n4                            0.0               3.386125e+07   \n...                          ...                        ...   \n1495                         0.0               2.321935e+07   \n1496                         0.0               4.803793e+07   \n1497                         0.0               2.640338e+07   \n1498                         0.0               2.321935e+07   \n1499                         0.0               4.803793e+07   \n\n      A.3_Expected Number of Deaths  A.4_Expected Annual Damage  \\\n0                               0.0                         0.0   \n1                               0.0                         0.0   \n2                               0.0                         0.0   \n3                               0.0                         0.0   \n4                               0.0                         0.0   \n...                             ...                         ...   \n1495                            0.0                         0.0   \n1496                            0.0                         0.0   \n1497                            0.0                         0.0   \n1498                            0.0                         0.0   \n1499                            0.0                         0.0   \n\n      A.4_Dike Investment Costs  A.4_Expected Number of Deaths  \\\n0                  2.038434e+07                            0.0   \n1                  2.852460e+07                            0.0   \n2                  2.167431e+07                            0.0   \n3                  2.038434e+07                            0.0   \n4                  2.852460e+07                            0.0   \n...                         ...                            ...   \n1495               7.732605e+06                            0.0   \n1496               7.996835e+06                            0.0   \n1497               1.258646e+07                            0.0   \n1498               7.732605e+06                            0.0   \n1499               7.996835e+06                            0.0   \n\n      A.5_Expected Annual Damage  A.5_Dike Investment Costs  \\\n0                   8.948519e+06               2.503721e+07   \n1                   0.000000e+00               6.016457e+07   \n2                   0.000000e+00               6.395489e+07   \n3                   1.306981e+08               2.503721e+07   \n4                   0.000000e+00               6.016457e+07   \n...                          ...                        ...   \n1495                0.000000e+00               4.764120e+07   \n1496                0.000000e+00               3.623275e+07   \n1497                1.968277e+06               3.667668e+07   \n1498                0.000000e+00               4.764120e+07   \n1499                0.000000e+00               3.623275e+07   \n\n      A.5_Expected Number of Deaths  RfR Total Costs  \\\n0                          0.002199      205800000.0   \n1                          0.000000              0.0   \n2                          0.000000      473900000.0   \n3                          0.040326      205800000.0   \n4                          0.000000              0.0   \n...                             ...              ...   \n1495                       0.000000      492600000.0   \n1496                       0.000000      679700000.0   \n1497                       0.000165      217800000.0   \n1498                       0.000000      492600000.0   \n1499                       0.000000      679700000.0   \n\n      Expected Evacuation Costs policy  \n0                    507.659173    360  \n1                      0.000000    360  \n2                      0.000000    360  \n3                   4061.937342    360  \n4                      0.000000    360  \n...                         ...    ...  \n1495                   0.000000    NaN  \n1496                   0.000000    NaN  \n1497                 106.963240    NaN  \n1498                   0.000000    NaN  \n1499                   0.000000    NaN  \n\n[1500 rows x 18 columns]",
      "text/html": "<div>\n<style scoped>\n    .dataframe tbody tr th:only-of-type {\n        vertical-align: middle;\n    }\n\n    .dataframe tbody tr th {\n        vertical-align: top;\n    }\n\n    .dataframe thead th {\n        text-align: right;\n    }\n</style>\n<table border=\"1\" class=\"dataframe\">\n  <thead>\n    <tr style=\"text-align: right;\">\n      <th></th>\n      <th>A.1_Expected Annual Damage</th>\n      <th>A.1_Dike Investment Costs</th>\n      <th>A.1_Expected Number of Deaths</th>\n      <th>A.2_Expected Annual Damage</th>\n      <th>A.2_Dike Investment Costs</th>\n      <th>A.2_Expected Number of Deaths</th>\n      <th>A.3_Expected Annual Damage</th>\n      <th>A.3_Dike Investment Costs</th>\n      <th>A.3_Expected Number of Deaths</th>\n      <th>A.4_Expected Annual Damage</th>\n      <th>A.4_Dike Investment Costs</th>\n      <th>A.4_Expected Number of Deaths</th>\n      <th>A.5_Expected Annual Damage</th>\n      <th>A.5_Dike Investment Costs</th>\n      <th>A.5_Expected Number of Deaths</th>\n      <th>RfR Total Costs</th>\n      <th>Expected Evacuation Costs</th>\n      <th>policy</th>\n    </tr>\n  </thead>\n  <tbody>\n    <tr>\n      <th>0</th>\n      <td>0.0</td>\n      <td>9.510733e+07</td>\n      <td>0.0</td>\n      <td>1.537273e+07</td>\n      <td>6.604510e+07</td>\n      <td>0.004024</td>\n      <td>0.0</td>\n      <td>4.421502e+07</td>\n      <td>0.0</td>\n      <td>0.0</td>\n      <td>2.038434e+07</td>\n      <td>0.0</td>\n      <td>8.948519e+06</td>\n      <td>2.503721e+07</td>\n      <td>0.002199</td>\n      <td>205800000.0</td>\n      <td>507.659173</td>\n      <td>360</td>\n    </tr>\n    <tr>\n      <th>1</th>\n      <td>0.0</td>\n      <td>5.213266e+07</td>\n      <td>0.0</td>\n      <td>0.000000e+00</td>\n      <td>8.969108e+07</td>\n      <td>0.000000</td>\n      <td>0.0</td>\n      <td>3.386125e+07</td>\n      <td>0.0</td>\n      <td>0.0</td>\n      <td>2.852460e+07</td>\n      <td>0.0</td>\n      <td>0.000000e+00</td>\n      <td>6.016457e+07</td>\n      <td>0.000000</td>\n      <td>0.0</td>\n      <td>0.000000</td>\n      <td>360</td>\n    </tr>\n    <tr>\n      <th>2</th>\n      <td>0.0</td>\n      <td>8.077559e+07</td>\n      <td>0.0</td>\n      <td>0.000000e+00</td>\n      <td>5.919375e+07</td>\n      <td>0.000000</td>\n      <td>0.0</td>\n      <td>6.843364e+07</td>\n      <td>0.0</td>\n      <td>0.0</td>\n      <td>2.167431e+07</td>\n      <td>0.0</td>\n      <td>0.000000e+00</td>\n      <td>6.395489e+07</td>\n      <td>0.000000</td>\n      <td>473900000.0</td>\n      <td>0.000000</td>\n      <td>360</td>\n    </tr>\n    <tr>\n      <th>3</th>\n      <td>0.0</td>\n      <td>9.510733e+07</td>\n      <td>0.0</td>\n      <td>0.000000e+00</td>\n      <td>6.604510e+07</td>\n      <td>0.000000</td>\n      <td>0.0</td>\n      <td>4.421502e+07</td>\n      <td>0.0</td>\n      <td>0.0</td>\n      <td>2.038434e+07</td>\n      <td>0.0</td>\n      <td>1.306981e+08</td>\n      <td>2.503721e+07</td>\n      <td>0.040326</td>\n      <td>205800000.0</td>\n      <td>4061.937342</td>\n      <td>360</td>\n    </tr>\n    <tr>\n      <th>4</th>\n      <td>0.0</td>\n      <td>5.213266e+07</td>\n      <td>0.0</td>\n      <td>0.000000e+00</td>\n      <td>8.969108e+07</td>\n      <td>0.000000</td>\n      <td>0.0</td>\n      <td>3.386125e+07</td>\n      <td>0.0</td>\n      <td>0.0</td>\n      <td>2.852460e+07</td>\n      <td>0.0</td>\n      <td>0.000000e+00</td>\n      <td>6.016457e+07</td>\n      <td>0.000000</td>\n      <td>0.0</td>\n      <td>0.000000</td>\n      <td>360</td>\n    </tr>\n    <tr>\n      <th>...</th>\n      <td>...</td>\n      <td>...</td>\n      <td>...</td>\n      <td>...</td>\n      <td>...</td>\n      <td>...</td>\n      <td>...</td>\n      <td>...</td>\n      <td>...</td>\n      <td>...</td>\n      <td>...</td>\n      <td>...</td>\n      <td>...</td>\n      <td>...</td>\n      <td>...</td>\n      <td>...</td>\n      <td>...</td>\n      <td>...</td>\n    </tr>\n    <tr>\n      <th>1495</th>\n      <td>0.0</td>\n      <td>4.261437e+07</td>\n      <td>0.0</td>\n      <td>0.000000e+00</td>\n      <td>1.392698e+08</td>\n      <td>0.000000</td>\n      <td>0.0</td>\n      <td>2.321935e+07</td>\n      <td>0.0</td>\n      <td>0.0</td>\n      <td>7.732605e+06</td>\n      <td>0.0</td>\n      <td>0.000000e+00</td>\n      <td>4.764120e+07</td>\n      <td>0.000000</td>\n      <td>492600000.0</td>\n      <td>0.000000</td>\n      <td>NaN</td>\n    </tr>\n    <tr>\n      <th>1496</th>\n      <td>0.0</td>\n      <td>8.335843e+07</td>\n      <td>0.0</td>\n      <td>0.000000e+00</td>\n      <td>0.000000e+00</td>\n      <td>0.000000</td>\n      <td>0.0</td>\n      <td>4.803793e+07</td>\n      <td>0.0</td>\n      <td>0.0</td>\n      <td>7.996835e+06</td>\n      <td>0.0</td>\n      <td>0.000000e+00</td>\n      <td>3.623275e+07</td>\n      <td>0.000000</td>\n      <td>679700000.0</td>\n      <td>0.000000</td>\n      <td>NaN</td>\n    </tr>\n    <tr>\n      <th>1497</th>\n      <td>0.0</td>\n      <td>4.784795e+07</td>\n      <td>0.0</td>\n      <td>0.000000e+00</td>\n      <td>9.952540e+07</td>\n      <td>0.000000</td>\n      <td>0.0</td>\n      <td>2.640338e+07</td>\n      <td>0.0</td>\n      <td>0.0</td>\n      <td>1.258646e+07</td>\n      <td>0.0</td>\n      <td>1.968277e+06</td>\n      <td>3.667668e+07</td>\n      <td>0.000165</td>\n      <td>217800000.0</td>\n      <td>106.963240</td>\n      <td>NaN</td>\n    </tr>\n    <tr>\n      <th>1498</th>\n      <td>0.0</td>\n      <td>4.261437e+07</td>\n      <td>0.0</td>\n      <td>0.000000e+00</td>\n      <td>1.392698e+08</td>\n      <td>0.000000</td>\n      <td>0.0</td>\n      <td>2.321935e+07</td>\n      <td>0.0</td>\n      <td>0.0</td>\n      <td>7.732605e+06</td>\n      <td>0.0</td>\n      <td>0.000000e+00</td>\n      <td>4.764120e+07</td>\n      <td>0.000000</td>\n      <td>492600000.0</td>\n      <td>0.000000</td>\n      <td>NaN</td>\n    </tr>\n    <tr>\n      <th>1499</th>\n      <td>0.0</td>\n      <td>8.335843e+07</td>\n      <td>0.0</td>\n      <td>0.000000e+00</td>\n      <td>0.000000e+00</td>\n      <td>0.000000</td>\n      <td>0.0</td>\n      <td>4.803793e+07</td>\n      <td>0.0</td>\n      <td>0.0</td>\n      <td>7.996835e+06</td>\n      <td>0.0</td>\n      <td>0.000000e+00</td>\n      <td>3.623275e+07</td>\n      <td>0.000000</td>\n      <td>679700000.0</td>\n      <td>0.000000</td>\n      <td>NaN</td>\n    </tr>\n  </tbody>\n</table>\n<p>1500 rows × 18 columns</p>\n</div>"
     },
     "execution_count": 97,
     "metadata": {},
     "output_type": "execute_result"
    }
   ],
   "source": [
    "data"
   ],
   "metadata": {
    "collapsed": false
   }
  },
  {
   "cell_type": "code",
   "execution_count": 98,
   "metadata": {
    "tags": []
   },
   "outputs": [
    {
     "ename": "KeyError",
     "evalue": "'A.1 Total Costs'",
     "output_type": "error",
     "traceback": [
      "\u001B[1;31m---------------------------------------------------------------------------\u001B[0m",
      "\u001B[1;31mKeyError\u001B[0m                                  Traceback (most recent call last)",
      "File \u001B[1;32m~\\anaconda3\\lib\\site-packages\\pandas\\core\\indexes\\base.py:3621\u001B[0m, in \u001B[0;36mIndex.get_loc\u001B[1;34m(self, key, method, tolerance)\u001B[0m\n\u001B[0;32m   3620\u001B[0m \u001B[38;5;28;01mtry\u001B[39;00m:\n\u001B[1;32m-> 3621\u001B[0m     \u001B[38;5;28;01mreturn\u001B[39;00m \u001B[38;5;28;43mself\u001B[39;49m\u001B[38;5;241;43m.\u001B[39;49m\u001B[43m_engine\u001B[49m\u001B[38;5;241;43m.\u001B[39;49m\u001B[43mget_loc\u001B[49m\u001B[43m(\u001B[49m\u001B[43mcasted_key\u001B[49m\u001B[43m)\u001B[49m\n\u001B[0;32m   3622\u001B[0m \u001B[38;5;28;01mexcept\u001B[39;00m \u001B[38;5;167;01mKeyError\u001B[39;00m \u001B[38;5;28;01mas\u001B[39;00m err:\n",
      "File \u001B[1;32m~\\anaconda3\\lib\\site-packages\\pandas\\_libs\\index.pyx:136\u001B[0m, in \u001B[0;36mpandas._libs.index.IndexEngine.get_loc\u001B[1;34m()\u001B[0m\n",
      "File \u001B[1;32m~\\anaconda3\\lib\\site-packages\\pandas\\_libs\\index.pyx:163\u001B[0m, in \u001B[0;36mpandas._libs.index.IndexEngine.get_loc\u001B[1;34m()\u001B[0m\n",
      "File \u001B[1;32mpandas\\_libs\\hashtable_class_helper.pxi:5198\u001B[0m, in \u001B[0;36mpandas._libs.hashtable.PyObjectHashTable.get_item\u001B[1;34m()\u001B[0m\n",
      "File \u001B[1;32mpandas\\_libs\\hashtable_class_helper.pxi:5206\u001B[0m, in \u001B[0;36mpandas._libs.hashtable.PyObjectHashTable.get_item\u001B[1;34m()\u001B[0m\n",
      "\u001B[1;31mKeyError\u001B[0m: 'A.1 Total Costs'",
      "\nThe above exception was the direct cause of the following exception:\n",
      "\u001B[1;31mKeyError\u001B[0m                                  Traceback (most recent call last)",
      "Input \u001B[1;32mIn [98]\u001B[0m, in \u001B[0;36m<cell line: 3>\u001B[1;34m()\u001B[0m\n\u001B[0;32m      1\u001B[0m \u001B[38;5;66;03m# add columns to the dataframe in which total outcomes are defined for total costs and number of deaths\u001B[39;00m\n\u001B[1;32m----> 3\u001B[0m data[\u001B[38;5;124m'\u001B[39m\u001B[38;5;124mtotal costs\u001B[39m\u001B[38;5;124m'\u001B[39m] \u001B[38;5;241m=\u001B[39m \u001B[43mdata\u001B[49m\u001B[43m[\u001B[49m\u001B[38;5;124;43m'\u001B[39;49m\u001B[38;5;124;43mA.1 Total Costs\u001B[39;49m\u001B[38;5;124;43m'\u001B[39;49m\u001B[43m]\u001B[49m \u001B[38;5;241m+\u001B[39m \\\n\u001B[0;32m      4\u001B[0m                                       data[\u001B[38;5;124m'\u001B[39m\u001B[38;5;124mA.2 Total Costs\u001B[39m\u001B[38;5;124m'\u001B[39m] \u001B[38;5;241m+\u001B[39m \\\n\u001B[0;32m      5\u001B[0m                                       data[\u001B[38;5;124m'\u001B[39m\u001B[38;5;124mA.3 Total Costs\u001B[39m\u001B[38;5;124m'\u001B[39m] \u001B[38;5;241m+\u001B[39m \\\n\u001B[0;32m      6\u001B[0m                                       data[\u001B[38;5;124m'\u001B[39m\u001B[38;5;124mA.4 Total Costs\u001B[39m\u001B[38;5;124m'\u001B[39m] \u001B[38;5;241m+\u001B[39m \\\n\u001B[0;32m      7\u001B[0m                                       data[\u001B[38;5;124m'\u001B[39m\u001B[38;5;124mA.5 Total Costs\u001B[39m\u001B[38;5;124m'\u001B[39m]\n\u001B[0;32m      9\u001B[0m data[\u001B[38;5;124m'\u001B[39m\u001B[38;5;124mtotal Expected Number of Deaths\u001B[39m\u001B[38;5;124m'\u001B[39m] \u001B[38;5;241m=\u001B[39m data[\u001B[38;5;124m'\u001B[39m\u001B[38;5;124mA.1_Expected Number of Deaths\u001B[39m\u001B[38;5;124m'\u001B[39m] \u001B[38;5;241m+\u001B[39m \\\n\u001B[0;32m     10\u001B[0m                                           data[\u001B[38;5;124m'\u001B[39m\u001B[38;5;124mA.2_Expected Number of Deaths\u001B[39m\u001B[38;5;124m'\u001B[39m] \u001B[38;5;241m+\u001B[39m \\\n\u001B[0;32m     11\u001B[0m                                           data[\u001B[38;5;124m'\u001B[39m\u001B[38;5;124mA.3_Expected Number of Deaths\u001B[39m\u001B[38;5;124m'\u001B[39m] \u001B[38;5;241m+\u001B[39m \\\n\u001B[0;32m     12\u001B[0m                                           data[\u001B[38;5;124m'\u001B[39m\u001B[38;5;124mA.4_Expected Number of Deaths\u001B[39m\u001B[38;5;124m'\u001B[39m] \u001B[38;5;241m+\u001B[39m \\\n\u001B[0;32m     13\u001B[0m                                           data[\u001B[38;5;124m'\u001B[39m\u001B[38;5;124mA.5_Expected Number of Deaths\u001B[39m\u001B[38;5;124m'\u001B[39m]\n",
      "File \u001B[1;32m~\\anaconda3\\lib\\site-packages\\pandas\\core\\frame.py:3505\u001B[0m, in \u001B[0;36mDataFrame.__getitem__\u001B[1;34m(self, key)\u001B[0m\n\u001B[0;32m   3503\u001B[0m \u001B[38;5;28;01mif\u001B[39;00m \u001B[38;5;28mself\u001B[39m\u001B[38;5;241m.\u001B[39mcolumns\u001B[38;5;241m.\u001B[39mnlevels \u001B[38;5;241m>\u001B[39m \u001B[38;5;241m1\u001B[39m:\n\u001B[0;32m   3504\u001B[0m     \u001B[38;5;28;01mreturn\u001B[39;00m \u001B[38;5;28mself\u001B[39m\u001B[38;5;241m.\u001B[39m_getitem_multilevel(key)\n\u001B[1;32m-> 3505\u001B[0m indexer \u001B[38;5;241m=\u001B[39m \u001B[38;5;28;43mself\u001B[39;49m\u001B[38;5;241;43m.\u001B[39;49m\u001B[43mcolumns\u001B[49m\u001B[38;5;241;43m.\u001B[39;49m\u001B[43mget_loc\u001B[49m\u001B[43m(\u001B[49m\u001B[43mkey\u001B[49m\u001B[43m)\u001B[49m\n\u001B[0;32m   3506\u001B[0m \u001B[38;5;28;01mif\u001B[39;00m is_integer(indexer):\n\u001B[0;32m   3507\u001B[0m     indexer \u001B[38;5;241m=\u001B[39m [indexer]\n",
      "File \u001B[1;32m~\\anaconda3\\lib\\site-packages\\pandas\\core\\indexes\\base.py:3623\u001B[0m, in \u001B[0;36mIndex.get_loc\u001B[1;34m(self, key, method, tolerance)\u001B[0m\n\u001B[0;32m   3621\u001B[0m     \u001B[38;5;28;01mreturn\u001B[39;00m \u001B[38;5;28mself\u001B[39m\u001B[38;5;241m.\u001B[39m_engine\u001B[38;5;241m.\u001B[39mget_loc(casted_key)\n\u001B[0;32m   3622\u001B[0m \u001B[38;5;28;01mexcept\u001B[39;00m \u001B[38;5;167;01mKeyError\u001B[39;00m \u001B[38;5;28;01mas\u001B[39;00m err:\n\u001B[1;32m-> 3623\u001B[0m     \u001B[38;5;28;01mraise\u001B[39;00m \u001B[38;5;167;01mKeyError\u001B[39;00m(key) \u001B[38;5;28;01mfrom\u001B[39;00m \u001B[38;5;21;01merr\u001B[39;00m\n\u001B[0;32m   3624\u001B[0m \u001B[38;5;28;01mexcept\u001B[39;00m \u001B[38;5;167;01mTypeError\u001B[39;00m:\n\u001B[0;32m   3625\u001B[0m     \u001B[38;5;66;03m# If we have a listlike key, _check_indexing_error will raise\u001B[39;00m\n\u001B[0;32m   3626\u001B[0m     \u001B[38;5;66;03m#  InvalidIndexError. Otherwise we fall through and re-raise\u001B[39;00m\n\u001B[0;32m   3627\u001B[0m     \u001B[38;5;66;03m#  the TypeError.\u001B[39;00m\n\u001B[0;32m   3628\u001B[0m     \u001B[38;5;28mself\u001B[39m\u001B[38;5;241m.\u001B[39m_check_indexing_error(key)\n",
      "\u001B[1;31mKeyError\u001B[0m: 'A.1 Total Costs'"
     ]
    }
   ],
   "source": [
    "# add columns to the dataframe in which total outcomes are defined for total costs and number of deaths\n",
    "\n",
    "data['total costs'] = data['A.1 Total Costs'] + \\\n",
    "                                      data['A.2 Total Costs'] + \\\n",
    "                                      data['A.3 Total Costs'] + \\\n",
    "                                      data['A.4 Total Costs'] + \\\n",
    "                                      data['A.5 Total Costs']\n",
    "\n",
    "data['total Expected Number of Deaths'] = data['A.1_Expected Number of Deaths'] + \\\n",
    "                                          data['A.2_Expected Number of Deaths'] + \\\n",
    "                                          data['A.3_Expected Number of Deaths'] + \\\n",
    "                                          data['A.4_Expected Number of Deaths'] + \\\n",
    "                                          data['A.5_Expected Number of Deaths']"
   ]
  },
  {
   "cell_type": "code",
   "execution_count": null,
   "metadata": {
    "tags": []
   },
   "outputs": [],
   "source": [
    "#create an outcomes dataframe with only the relevant outcomes for A3\n",
    "A_1data = data[['A.1 Total Costs',\n",
    "                'A.1_Expected Number of Deaths', 'RfR Total Costs',\n",
    "                'Expected Evacuation Costs', \"policy\"]]\n",
    "\n",
    "A_2data = data[['A.2 Total Costs', \n",
    "                'A.2_Expected Number of Deaths', 'RfR Total Costs',\n",
    "                'Expected Evacuation Costs', \"policy\"]]\n",
    "\n",
    "A_3data = data[['A.3 Total Costs',\n",
    "                'A.3_Expected Number of Deaths', 'RfR Total Costs',\n",
    "                'Expected Evacuation Costs', \"policy\"]]\n",
    "\n",
    "A_4data = data[['A.4 Total Costs',\n",
    "                'A.4_Expected Number of Deaths', 'RfR Total Costs',\n",
    "                'Expected Evacuation Costs', \"policy\"]]\n",
    "\n",
    "A_5data = data[['A.5 Total Costs',\n",
    "                'A.5_Expected Number of Deaths', 'RfR Total Costs',\n",
    "                'Expected Evacuation Costs', \"policy\"]]\n",
    "\n",
    "A_totaldata=data[['total costs', \n",
    "                  'total Expected Number of Deaths', 'RfR Total Costs',\n",
    "                  'Expected Evacuation Costs', \"policy\"]]"
   ]
  },
  {
   "cell_type": "code",
   "execution_count": null,
   "metadata": {
    "scrolled": true,
    "tags": []
   },
   "outputs": [],
   "source": [
    "data.columns"
   ]
  },
  {
   "cell_type": "code",
   "execution_count": null,
   "metadata": {
    "tags": []
   },
   "outputs": [],
   "source": [
    "# a pairplot is created to be able to have a first glance at the objectives and possible trade-offs\n",
    "A1pairplot=sns.pairplot(A_1data, \n",
    "                        hue='policy', \n",
    "                        vars=['A.1 Total Costs', \n",
    "                              'A.1_Expected Number of Deaths', \n",
    "                              'RfR Total Costs', \n",
    "                              'Expected Evacuation Costs'])\n",
    "\n",
    "A1pairplot._legend.remove()\n",
    "A1pairplot.savefig(\"Figures/A1pairplot.png\")"
   ]
  },
  {
   "cell_type": "code",
   "execution_count": null,
   "metadata": {
    "tags": []
   },
   "outputs": [],
   "source": [
    "# a pairplot is created to be able to have a first glance at the objectives and possible trade-offs\n",
    "A2pairplot=sns.pairplot(A_2data, \n",
    "                        hue='policy', \n",
    "                        vars=['A.2 Total Costs', \n",
    "                              'A.2_Expected Number of Deaths', \n",
    "                              'RfR Total Costs', \n",
    "                              'Expected Evacuation Costs'])\n",
    "\n",
    "A2pairplot._legend.remove()\n",
    "A2pairplot.savefig(\"Figures/A2pairplot.png\")"
   ]
  },
  {
   "cell_type": "code",
   "execution_count": null,
   "metadata": {
    "tags": []
   },
   "outputs": [],
   "source": [
    "# a pairplot is created to be able to have a first glance at the objectives and possible trade-offs\n",
    "A3pairplot=sns.pairplot(A_3data, \n",
    "                        hue='policy', \n",
    "                        vars=['A.3 Total Costs', \n",
    "                              'A.3_Expected Number of Deaths', \n",
    "                              'RfR Total Costs', \n",
    "                              'Expected Evacuation Costs'])\n",
    "\n",
    "A3pairplot._legend.remove()\n",
    "A3pairplot.savefig(\"Figures/A3pairplot.png\")"
   ]
  },
  {
   "cell_type": "code",
   "execution_count": null,
   "metadata": {},
   "outputs": [],
   "source": [
    "# a pairplot is created to be able to have a first glance at the objectives and possible trade-offs\n",
    "A4pairplot=sns.pairplot(A_4data, \n",
    "                        hue='policy', \n",
    "                        vars=['A.4 Total Costs', \n",
    "                              'A.4_Expected Number of Deaths', \n",
    "                              'RfR Total Costs', \n",
    "                              'Expected Evacuation Costs'])\n",
    "\n",
    "A4pairplot._legend.remove()\n",
    "A4pairplot.savefig(\"Figures/A4pairplot.png\")"
   ]
  },
  {
   "cell_type": "code",
   "execution_count": null,
   "metadata": {},
   "outputs": [],
   "source": [
    "# a pairplot is created to be able to have a first glance at the objectives \n",
    "# and possible trade-offs\n",
    "A5pairplot=sns.pairplot(A_5data, \n",
    "                        hue='policy', \n",
    "                        vars=['A.5 Total Costs', \n",
    "                              'A.5_Expected Number of Deaths', \n",
    "                              'RfR Total Costs', \n",
    "                              'Expected Evacuation Costs'])\n",
    "\n",
    "A5pairplot._legend.remove()\n",
    "A5pairplot.savefig(\"Figures/A5pairplot.png\")"
   ]
  },
  {
   "attachments": {},
   "cell_type": "markdown",
   "metadata": {},
   "source": [
    "!!! Dit moet aangepast worden!!!!!! \n",
    "Various correlations between outcomes are present.\n",
    "\n",
    "For all dike rings: the expected annual damage and the expected number of deaths at a specific dike ring are positively correlated. The correlation coefficient that governs the mathematical connection seems again to be correlated with the specific policy that is in place.\n",
    "For all dike rings: the expected annual damage at a specific dike ring and the total expected evacuation costs are positively correlated in a relatively large fraction of the cases. They are also never negatively correlated.\n",
    "For all dike rings: the expected number of deaths at a specific dike ring and the total expected evacuation costs are positively correlated in a relatively large fraction of the cases. They are also never negatively correlated.\n",
    "The ranges of dike ring specific levers and outcomes differ significantly.\n",
    "\n",
    "The highest expected annual damage per dike ring can be ordered as follows: [A1,A3,A2,A5,A4], from highest to lowest.\n",
    "The most expected number of deaths per dike ring can be ordered as follows: [A3,A1,A2,A5,A4], from highest to lowest.\n",
    "The highest dike investment costs per dike ring can be ordered as follows: [A2,A1,A3,A5,A4], from highest to lowest.\n",
    "The policy options differ significantly in their effectiveness.\n",
    "\n",
    "For all dike rings: the more is invested in dikes at a specific dike ring, the less number of deaths are expected at that specific dike ring and the less annual damage can be expected at that same dike ring.\n",
    "Only for dike ring A3: the more is invested in dikes, the less total evacuation cost is expected.\n",
    "For all dike rings: spending more on RFR measures does not unambiguously lead to less expected number of deaths, less expected annual damage or less expected evacuation costs.\n",
    "PRIM Scenario Discovery\n",
    "For the prim analyses boundaries have to be set on the outcomes of interest. To determine which boundary to pick, kde plots are made.\n",
    "\n",
    "\n",
    "-------------------------------------------------------------------------------------------------------------"
   ]
  },
  {
   "cell_type": "code",
   "execution_count": null,
   "metadata": {
    "tags": []
   },
   "outputs": [],
   "source": [
    "fig, ax = plt.subplots()\n",
    "sns.kdeplot(outcomes['Expected Evacuation Costs'], ax=ax)\n",
    "sns.set_style('white')\n",
    "fig.set_size_inches(8,6)\n",
    "plt.xlim([0, 20000])\n",
    "fig.subplots_adjust(bottom=0.3)\n",
    "plt.show()"
   ]
  },
  {
   "cell_type": "code",
   "execution_count": null,
   "metadata": {},
   "outputs": [],
   "source": [
    "fig, ax = plt.subplots()\n",
    "sns.kdeplot(outcomes['A.3_Expected Number of Deaths'], ax=ax)\n",
    "sns.set_style('white')\n",
    "fig.set_size_inches(8,6)\n",
    "plt.xlim([0, 2.1])\n",
    "fig.subplots_adjust(bottom=0.3)\n",
    "plt.show()"
   ]
  },
  {
   "cell_type": "code",
   "execution_count": null,
   "metadata": {},
   "outputs": [],
   "source": [
    "ydeaths = outcomes['A.3_Expected Number of Deaths'] < 1e-5\n",
    "np.sum(ydeaths)/len(outcomes['A.3_Expected Number of Deaths'])"
   ]
  },
  {
   "cell_type": "code",
   "execution_count": null,
   "metadata": {},
   "outputs": [],
   "source": [
    "#ycosts=outcomes['A.3 Total Costs'] < 1e6\n",
    "#np.sum(ydamage)/len(outcomes['A.3_Expected Annual Damage'])"
   ]
  },
  {
   "cell_type": "code",
   "execution_count": null,
   "metadata": {},
   "outputs": [],
   "source": [
    "yevac=outcomes['Expected Evacuation Costs'] < 1e3\n",
    "np.sum(yevac)/len(outcomes['Expected Evacuation Costs'])"
   ]
  },
  {
   "cell_type": "code",
   "execution_count": null,
   "metadata": {},
   "outputs": [],
   "source": [
    "from ema_workbench.analysis import prim\n",
    "x1 = experiments.drop([o.name for o in dike_model.levers] + [\"policy\"], axis=1)\n",
    "\n",
    "prim_alg = prim.Prim(x1, ydeaths, threshold=0.5, peel_alpha=0.01)\n",
    "boxbestdeaths = prim_alg.find_box()\n",
    "\n",
    "boxbestdeaths.show_tradeoff()\n",
    "plt.show()"
   ]
  },
  {
   "cell_type": "code",
   "execution_count": null,
   "metadata": {},
   "outputs": [],
   "source": [
    "boxbestdeaths.peeling_trajectory[35:60]"
   ]
  },
  {
   "cell_type": "code",
   "execution_count": null,
   "metadata": {},
   "outputs": [],
   "source": [
    "print(results)"
   ]
  },
  {
   "cell_type": "code",
   "execution_count": null,
   "metadata": {},
   "outputs": [],
   "source": [
    "bestdeaths=boxbestdeaths.inspect(style='graph')"
   ]
  },
  {
   "cell_type": "code",
   "execution_count": null,
   "metadata": {},
   "outputs": [],
   "source": [
    "prim_alg = prim.Prim(x1, yevac, threshold=0.5, peel_alpha=0.01)\n",
    "boxbestevac= prim_alg.find_box()\n",
    "\n",
    "boxbestevac.show_tradeoff()\n",
    "plt.show()"
   ]
  },
  {
   "cell_type": "code",
   "execution_count": null,
   "metadata": {},
   "outputs": [],
   "source": [
    "boxbestevac.peeling_trajectory[60:80]"
   ]
  },
  {
   "cell_type": "code",
   "execution_count": null,
   "metadata": {},
   "outputs": [],
   "source": [
    "bestevac=boxbestevac.inspect(style='graph')"
   ]
  },
  {
   "cell_type": "code",
   "execution_count": null,
   "metadata": {},
   "outputs": [],
   "source": []
  }
 ],
 "metadata": {
  "kernelspec": {
   "display_name": "Python 3 (ipykernel)",
   "language": "python",
   "name": "python3"
  },
  "language_info": {
   "codemirror_mode": {
    "name": "ipython",
    "version": 3
   },
   "file_extension": ".py",
   "mimetype": "text/x-python",
   "name": "python",
   "nbconvert_exporter": "python",
   "pygments_lexer": "ipython3",
   "version": "3.11.3"
  }
 },
 "nbformat": 4,
 "nbformat_minor": 4
}
