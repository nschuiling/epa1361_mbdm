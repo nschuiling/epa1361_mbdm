{
 "cells": [
  {
   "cell_type": "code",
   "execution_count": null,
   "metadata": {},
   "outputs": [],
   "source": [
    "import seaborn as sns\n",
    "sns.set_style('white')\n",
    "from ema_workbench.em_framework.evaluators import LHS, SOBOL, MORRIS\n",
    "from ema_workbench.analysis import feature_scoring\n",
    "from ema_workbench.analysis.scenario_discovery_util import RuleInductionType\n",
    "from ema_workbench import save_results\n",
    "from ema_workbench.util.utilities import load_results\n",
    "import numpy as np\n",
    "import scipy as sp\n",
    "import pandas as pd\n",
    "import matplotlib.pyplot as plt\n",
    "import networkx as nx\n",
    "import csv\n",
    "import os"
   ]
  },
  {
   "cell_type": "code",
   "execution_count": null,
   "metadata": {},
   "outputs": [],
   "source": [
    "try:\n",
    "    # Only run the experiments again if data hasn't been generated yet\n",
    "    results=load_results('results/open_exploration.tar.gz')\n",
    "except IOError:\n",
    "    # Sequentially run experiments for 100 scenario's and 100 policies\n",
    "    with MultiprocessingEvaluator(dike_model) as evaluator:\n",
    "        results = evaluator.perform_experiments(scenarios=100, policies=100)"
   ]
  },
  {
   "cell_type": "code",
   "execution_count": null,
   "metadata": {},
   "outputs": [],
   "source": [
    "#observing the simulation runs\n",
    "experiments, outcomes = results"
   ]
  },
  {
   "cell_type": "markdown",
   "metadata": {},
   "source": [
    "'A.3_Expected Annual Damage'"
   ]
  },
  {
   "cell_type": "code",
   "execution_count": null,
   "metadata": {},
   "outputs": [],
   "source": [
    "%%time\n",
    "# Calculate feature scores\n",
    "scores = feature_scoring.get_ex_feature_scores(experiments, \n",
    "                                               outcomes['A.3_Expected Annual Damage'],\n",
    "                                               max_features=17, \n",
    "                                               mode=RuleInductionType.REGRESSION, \n",
    "                                               nr_trees=1000)[0]"
   ]
  },
  {
   "cell_type": "code",
   "execution_count": null,
   "metadata": {},
   "outputs": [],
   "source": [
    "# Show results in heatmap\n",
    "fig, ax = plt.subplots(figsize=(14,14))\n",
    "sns.heatmap(scores, cmap='viridis', annot=True)\n",
    "fig.set_size_inches(10.5, 10.5, forward=True)\n",
    "plt.show()"
   ]
  },
  {
   "cell_type": "code",
   "execution_count": null,
   "metadata": {},
   "outputs": [],
   "source": [
    "# Show convergence over the number of samples\n",
    "\n",
    "try:\n",
    "    # Only run the experiments again if data hasn't been generated yet\n",
    "    combined_scores = pd.read_csv(\"results/combined_score.csv\", index_col=0)\n",
    "except IOError:\n",
    "    combined_scores = []\n",
    "    for j in range(100, experiments.shape[0], 100):\n",
    "        scores = feature_scoring.get_ex_feature_scores(experiments.iloc[0:j, :],\n",
    "                                                       outcomes['A.3_Expected Annual Damage'][0:j],\n",
    "                                                       max_features=17,\n",
    "                                                       mode=RuleInductionType.REGRESSION)[0]\n",
    "        scores.columns = [j]\n",
    "        combined_scores.append(scores)\n",
    "    combined_scores = pd.concat(combined_scores, axis=1, sort=True)\n",
    "    combined_scores.to_csv(\"results/combined_score.csv\")"
   ]
  },
  {
   "cell_type": "code",
   "execution_count": null,
   "metadata": {},
   "outputs": [],
   "source": [
    "outcomes_of_interest = ['2_RfR 0', 'A.3_pfail', \n",
    "                        'A.3_DikeIncrease 0', '2_RfR 2', \n",
    "                        'A.1_Bmax']\n",
    "combined_scores = combined_scores[combined_scores.index.isin(outcomes_of_interest)]"
   ]
  },
  {
   "cell_type": "code",
   "execution_count": null,
   "metadata": {},
   "outputs": [],
   "source": [
    "\n",
    "# Show convergence over time\n",
    "fig, ax = plt.subplots(1)\n",
    "combined_scores.T.plot(ax=ax)\n",
    "ax.legend(bbox_to_anchor=(1,1))\n",
    "ax.set_xlabel('Samples')\n",
    "ax.set_ylabel('feature scores')\n",
    "plt.show()"
   ]
  },
  {
   "cell_type": "markdown",
   "metadata": {},
   "source": [
    "'Expected evacuation costs'"
   ]
  },
  {
   "cell_type": "code",
   "execution_count": null,
   "metadata": {},
   "outputs": [],
   "source": [
    "%%time\n",
    "# calculate feature score\n",
    "scores_EEC = feature_scoring.get_ex_feature_scores(experiments, \n",
    "                                                   outcomes['Expected Evacuation Costs'],\n",
    "                                                   max_features=17, \n",
    "                                                   mode=RuleInductionType.REGRESSION)[0]"
   ]
  },
  {
   "cell_type": "code",
   "execution_count": null,
   "metadata": {},
   "outputs": [],
   "source": [
    "# Show results in heatmap\n",
    "fig, ax = plt.subplots(figsize=(14,14))\n",
    "sns.heatmap(scores_EEC, cmap='viridis', annot=True)\n",
    "fig.set_size_inches(8, 9, forward=True)\n",
    "plt.savefig('./Figures/EEC_HM.png', bbox_inches='tight')\n",
    "plt.show()"
   ]
  },
  {
   "cell_type": "code",
   "execution_count": null,
   "metadata": {},
   "outputs": [],
   "source": [
    "%%time\n",
    "\n",
    "# Show convergence over the number of samples\n",
    "\n",
    "try:\n",
    "    # Only run the experiments again if data hasn't been generated yet\n",
    "    combined_scores_EEC = pd.read_csv(\"results/combined_scores_EEC.csv\", index_col=0)\n",
    "except OSError:\n",
    "    combined_scores_EEC = []\n",
    "\n",
    "    # Show convergence over the number of samples\n",
    "    for j in range(100, experiments.shape[0], 100):\n",
    "        scores = feature_scoring.get_ex_feature_scores(experiments.iloc[0:j, :],\n",
    "                                                       outcomes['Expected Evacuation Costs'][0:j],\n",
    "                                                       max_features=17,\n",
    "                                                       mode=RuleInductionType.REGRESSION)[0]\n",
    "        scores.columns = [j]\n",
    "        combined_scores_EEC.append(scores)\n",
    "\n",
    "    combined_scores_EEC = pd.concat(combined_scores_EEC, axis=1, sort=True)\n",
    "    combined_scores_EEC.to_csv(\"results/combined_scores_EEC.csv\")"
   ]
  },
  {
   "cell_type": "code",
   "execution_count": null,
   "metadata": {},
   "outputs": [],
   "source": [
    "outcomes_of_interest = ['2_RfR 0', 'A.3_pfail', \n",
    "                        'A.3_DikeIncrease 0', '2_RfR 2', \n",
    "                        'A.1_Bmax']\n",
    "combined_scores_EEC = combined_scores_EEC[combined_scores_EEC.index.isin(outcomes_of_interest)]"
   ]
  },
  {
   "cell_type": "code",
   "execution_count": null,
   "metadata": {},
   "outputs": [],
   "source": [
    "fig, ax = plt.subplots(1)\n",
    "combined_scores_EEC.T.plot(ax=ax)\n",
    "ax.legend(bbox_to_anchor=(1,1))\n",
    "ax.set_xlabel('Samples')\n",
    "ax.set_ylabel('feature scores')\n",
    "plt.savefig('./Figures/EEC.png', bbox_inches='tight')\n",
    "plt.show()"
   ]
  },
  {
   "cell_type": "markdown",
   "metadata": {},
   "source": [
    "'Expected number of deaths'"
   ]
  },
  {
   "cell_type": "code",
   "execution_count": null,
   "metadata": {},
   "outputs": [],
   "source": [
    "%%time\n",
    "# Get feature scores\n",
    "scores_ENoD = feature_scoring.get_ex_feature_scores(experiments, \n",
    "                                                    outcomes['A.3_Expected Annual Damage'],\n",
    "                                                    max_features=17, \n",
    "                                                    mode=RuleInductionType.REGRESSION)[0]"
   ]
  },
  {
   "cell_type": "code",
   "execution_count": null,
   "metadata": {},
   "outputs": [],
   "source": [
    "# Show feature scores in heatmap\n",
    "fig, ax = plt.subplots(figsize=(14,14))\n",
    "sns.heatmap(scores_ENoD, cmap='viridis', annot=True)\n",
    "fig.set_size_inches(8, 9, forward=True)\n",
    "plt.savefig('./Figures/ENOD_HM.png', bbox_inches='tight')\n",
    "plt.show()"
   ]
  },
  {
   "cell_type": "code",
   "execution_count": null,
   "metadata": {},
   "outputs": [],
   "source": [
    "%%time\n",
    "\n",
    "# Show convergence over the number of samples\n",
    "\n",
    "try:\n",
    "    # Only run the experiments again if data hasn't been generated yet\n",
    "    combined_scores_ENoD = pd.read_csv(\"results/combined_scores_ENoD.csv\", index_col=0)\n",
    "except OSError:\n",
    "    combined_scores_ENoD = []\n",
    "\n",
    "    # Show convergence over the number of samples\n",
    "    for j in range(100, experiments.shape[0], 100):\n",
    "        scores = feature_scoring.get_ex_feature_scores(experiments.iloc[0:j, :],\n",
    "                                                       outcomes['A.3_Expected Number of Deaths'][0:j],\n",
    "                                                       max_features=17,\n",
    "                                                       mode=RuleInductionType.REGRESSION)[0]\n",
    "        scores.columns = [j]\n",
    "        combined_scores_ENoD.append(scores)\n",
    "    combined_scores_ENoD = pd.concat(combined_scores_ENoD, axis=1, sort=True)\n",
    "    combined_scores_ENoD.to_csv(\"results/combined_scores_ENoD.csv\")"
   ]
  },
  {
   "cell_type": "code",
   "execution_count": null,
   "metadata": {},
   "outputs": [],
   "source": [
    "outcomes_of_interest = ['A.3_pfail', 'A.3_DikeIncrease 0', \n",
    "                        'A.4_pfail', 'A.1_Bmax', \n",
    "                        'A.3_Bmax']\n",
    "combined_scores_ENoD = combined_scores_ENoD[combined_scores_ENoD.index.isin(outcomes_of_interest)]"
   ]
  },
  {
   "cell_type": "code",
   "execution_count": null,
   "metadata": {},
   "outputs": [],
   "source": [
    "fig, ax = plt.subplots(1)\n",
    "combined_scores_ENoD.T.plot(ax=ax)\n",
    "ax.legend(bbox_to_anchor=(1,1))\n",
    "ax.set_xlabel('Samples')\n",
    "ax.set_ylabel('feature scores')\n",
    "ax.set_title(\"Expected Number of Deaths (ENoD)\")\n",
    "plt.savefig('./Figures/ENOD.png', bbox_inches='tight')\n",
    "plt.show()"
   ]
  }
 ],
 "metadata": {
  "kernelspec": {
   "display_name": "Python 3 (ipykernel)",
   "language": "python",
   "name": "python3"
  },
  "language_info": {
   "codemirror_mode": {
    "name": "ipython",
    "version": 3
   },
   "file_extension": ".py",
   "mimetype": "text/x-python",
   "name": "python",
   "nbconvert_exporter": "python",
   "pygments_lexer": "ipython3",
   "version": "3.11.3"
  }
 },
 "nbformat": 4,
 "nbformat_minor": 4
}
